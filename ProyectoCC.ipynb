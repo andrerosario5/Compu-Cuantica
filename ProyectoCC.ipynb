{
 "cells": [
  {
   "cell_type": "markdown",
   "id": "e1a7e527-9ba8-4b35-8868-80995c9d4416",
   "metadata": {},
   "source": [
    "<div style=\"text-align: center; padding: 20px; border-radius: 15px; background: linear-gradient(135deg, #1a1a2e, #16213e); color: white; font-family: 'Segoe UI', sans-serif;\">\n",
    "\n",
    "  <span style=\"font-size: 2em; font-weight: bold;\">Proyecto Final</span>  \n",
    "  <span style=\"color: #003D79; font-size: 1.5em;\">Clasificación multiclase con QML</span>  \n",
    "\n",
    "  <hr style=\"border: none; border-top: 1px solid #ddd; margin: 20px 0;\">\n",
    "  \n",
    "  <span style=\"color: #D59F0F; font-size: 1.2em;\">Universidad Nacional Autónoma de México</span>  \n",
    "  <span style=\"color: #eb0b30; font-size: 1.5em;\">Facultad de ingeniería</span>  \n",
    "\n",
    "  <p style=\"font-size: 1em;\">2958: Temas Selectos de Ingeniería en Computación III</p>\n",
    "  <p style=\"font-weight: bold;\">Computación Cuántica · 2025-2</p>\n",
    "\n",
    "  <hr style=\"border: none; border-top: 1px solid #ddd; margin: 20px 0;\">\n",
    "\n",
    "  <table style=\"margin: 0 auto; border-collapse: collapse; font-size: 1em;\">\n",
    "    <tr>\n",
    "      <th style=\"padding: 8px 16px; border-bottom: 1px solid #ccc;\">Nombre</th>\n",
    "      <th style=\"padding: 8px 16px; border-bottom: 1px solid #ccc;\">Matrícula</th>\n",
    "    </tr>\n",
    "    <tr>\n",
    "      <td style=\"padding: 8px 16px;\">Garay Jacome Brandon</td>\n",
    "      <td style=\"padding: 8px 16px;\">[Matrícula 1]</td>\n",
    "    </tr>\n",
    "    <tr>\n",
    "      <td style=\"padding: 8px 16px;\">López Ortega Diego</td>\n",
    "      <td style=\"padding: 8px 16px;\">421058536</td>\n",
    "    </tr>\n",
    "    <tr>\n",
    "      <td style=\"padding: 8px 16px;\">Rosario Vázques José André</td>\n",
    "      <td style=\"padding: 8px 16px;\">[Matrícula 3]</td>\n",
    "    </tr>\n",
    "  </table>\n",
    "\n",
    "</div>\n",
    "\n",
    "$ \\newcommand{\\bra}[1]{\\langle #1|} $\n",
    "$ \\newcommand{\\ket}[1]{|#1\\rangle} $\n",
    "$ \\newcommand{\\braket}[2]{\\langle #1|#2\\rangle} $\n",
    "$ \\newcommand{\\mymatrix}[2]{\\left[ \\begin{array}{#1} #2\\end{array} \\right]} $\n",
    "$ \\newcommand{\\myvector}[1]{\\mymatrix{c}{#1}} $\n"
   ]
  },
  {
   "cell_type": "markdown",
   "id": "47cc5b2f-2f3f-475c-b8ca-1f0845b63e36",
   "metadata": {},
   "source": [
    "# Instalación de dependencias (update/downgrade)"
   ]
  },
  {
   "cell_type": "code",
   "execution_count": null,
   "id": "9c144615-b31a-4731-81e8-5e4f0efcb500",
   "metadata": {},
   "outputs": [],
   "source": [
    "# !pip uninstall -y qiskit qiskit-aer qiskit-terra qiskit-machine-learning"
   ]
  },
  {
   "cell_type": "code",
   "execution_count": 1,
   "id": "4d4820ca-5024-4f5c-8175-e038cf191781",
   "metadata": {
    "scrolled": true
   },
   "outputs": [
    {
     "name": "stdout",
     "output_type": "stream",
     "text": [
      "Collecting qiskit==1.3.2\n",
      "  Using cached qiskit-1.3.2-cp39-abi3-win_amd64.whl.metadata (13 kB)\n",
      "Requirement already satisfied: rustworkx>=0.15.0 in d:\\users\\equipo\\anaconda3\\envs\\env_qiskit\\lib\\site-packages (from qiskit==1.3.2) (0.16.0)\n",
      "Requirement already satisfied: numpy<3,>=1.17 in d:\\users\\equipo\\anaconda3\\envs\\env_qiskit\\lib\\site-packages (from qiskit==1.3.2) (2.2.3)\n",
      "Requirement already satisfied: scipy>=1.5 in d:\\users\\equipo\\anaconda3\\envs\\env_qiskit\\lib\\site-packages (from qiskit==1.3.2) (1.15.2)\n",
      "Requirement already satisfied: sympy>=1.3 in d:\\users\\equipo\\anaconda3\\envs\\env_qiskit\\lib\\site-packages (from qiskit==1.3.2) (1.13.3)\n",
      "Requirement already satisfied: dill>=0.3 in d:\\users\\equipo\\anaconda3\\envs\\env_qiskit\\lib\\site-packages (from qiskit==1.3.2) (0.3.9)\n",
      "Requirement already satisfied: python-dateutil>=2.8.0 in d:\\users\\equipo\\anaconda3\\envs\\env_qiskit\\lib\\site-packages (from qiskit==1.3.2) (2.9.0.post0)\n",
      "Requirement already satisfied: stevedore>=3.0.0 in d:\\users\\equipo\\anaconda3\\envs\\env_qiskit\\lib\\site-packages (from qiskit==1.3.2) (5.4.1)\n",
      "Requirement already satisfied: typing-extensions in d:\\users\\equipo\\anaconda3\\envs\\env_qiskit\\lib\\site-packages (from qiskit==1.3.2) (4.12.2)\n",
      "Requirement already satisfied: symengine<0.14,>=0.11 in d:\\users\\equipo\\anaconda3\\envs\\env_qiskit\\lib\\site-packages (from qiskit==1.3.2) (0.13.0)\n",
      "Requirement already satisfied: six>=1.5 in d:\\users\\equipo\\anaconda3\\envs\\env_qiskit\\lib\\site-packages (from python-dateutil>=2.8.0->qiskit==1.3.2) (1.17.0)\n",
      "Requirement already satisfied: pbr>=2.0.0 in d:\\users\\equipo\\anaconda3\\envs\\env_qiskit\\lib\\site-packages (from stevedore>=3.0.0->qiskit==1.3.2) (6.1.1)\n",
      "Requirement already satisfied: setuptools in d:\\users\\equipo\\anaconda3\\envs\\env_qiskit\\lib\\site-packages (from pbr>=2.0.0->stevedore>=3.0.0->qiskit==1.3.2) (72.1.0)\n",
      "Requirement already satisfied: mpmath<1.4,>=1.1.0 in d:\\users\\equipo\\anaconda3\\envs\\env_qiskit\\lib\\site-packages (from sympy>=1.3->qiskit==1.3.2) (1.3.0)\n",
      "Using cached qiskit-1.3.2-cp39-abi3-win_amd64.whl (6.5 MB)\n",
      "Installing collected packages: qiskit\n",
      "Successfully installed qiskit-1.3.2\n"
     ]
    },
    {
     "name": "stderr",
     "output_type": "stream",
     "text": [
      "WARNING: Ignoring invalid distribution ~ (D:\\Users\\Equipo\\anaconda3\\envs\\env_qiskit\\Lib\\site-packages)\n",
      "WARNING: Ignoring invalid distribution ~iskit (D:\\Users\\Equipo\\anaconda3\\envs\\env_qiskit\\Lib\\site-packages)\n",
      "WARNING: Ignoring invalid distribution ~ (D:\\Users\\Equipo\\anaconda3\\envs\\env_qiskit\\Lib\\site-packages)\n",
      "WARNING: Ignoring invalid distribution ~iskit (D:\\Users\\Equipo\\anaconda3\\envs\\env_qiskit\\Lib\\site-packages)\n",
      "WARNING: Ignoring invalid distribution ~ (D:\\Users\\Equipo\\anaconda3\\envs\\env_qiskit\\Lib\\site-packages)\n",
      "WARNING: Ignoring invalid distribution ~iskit (D:\\Users\\Equipo\\anaconda3\\envs\\env_qiskit\\Lib\\site-packages)\n"
     ]
    },
    {
     "name": "stdout",
     "output_type": "stream",
     "text": [
      "Collecting qiskit-aer\n",
      "  Using cached qiskit_aer-0.17.0-cp313-cp313-win_amd64.whl.metadata (8.4 kB)\n",
      "Requirement already satisfied: qiskit>=1.1.0 in d:\\users\\equipo\\anaconda3\\envs\\env_qiskit\\lib\\site-packages (from qiskit-aer) (1.3.2)\n",
      "Requirement already satisfied: numpy>=1.16.3 in d:\\users\\equipo\\anaconda3\\envs\\env_qiskit\\lib\\site-packages (from qiskit-aer) (2.2.3)\n",
      "Requirement already satisfied: scipy>=1.0 in d:\\users\\equipo\\anaconda3\\envs\\env_qiskit\\lib\\site-packages (from qiskit-aer) (1.15.2)\n",
      "Requirement already satisfied: psutil>=5 in d:\\users\\equipo\\anaconda3\\envs\\env_qiskit\\lib\\site-packages (from qiskit-aer) (7.0.0)\n",
      "Requirement already satisfied: rustworkx>=0.15.0 in d:\\users\\equipo\\anaconda3\\envs\\env_qiskit\\lib\\site-packages (from qiskit>=1.1.0->qiskit-aer) (0.16.0)\n",
      "Requirement already satisfied: sympy>=1.3 in d:\\users\\equipo\\anaconda3\\envs\\env_qiskit\\lib\\site-packages (from qiskit>=1.1.0->qiskit-aer) (1.13.3)\n",
      "Requirement already satisfied: dill>=0.3 in d:\\users\\equipo\\anaconda3\\envs\\env_qiskit\\lib\\site-packages (from qiskit>=1.1.0->qiskit-aer) (0.3.9)\n",
      "Requirement already satisfied: python-dateutil>=2.8.0 in d:\\users\\equipo\\anaconda3\\envs\\env_qiskit\\lib\\site-packages (from qiskit>=1.1.0->qiskit-aer) (2.9.0.post0)\n",
      "Requirement already satisfied: stevedore>=3.0.0 in d:\\users\\equipo\\anaconda3\\envs\\env_qiskit\\lib\\site-packages (from qiskit>=1.1.0->qiskit-aer) (5.4.1)\n",
      "Requirement already satisfied: typing-extensions in d:\\users\\equipo\\anaconda3\\envs\\env_qiskit\\lib\\site-packages (from qiskit>=1.1.0->qiskit-aer) (4.12.2)\n",
      "Requirement already satisfied: symengine<0.14,>=0.11 in d:\\users\\equipo\\anaconda3\\envs\\env_qiskit\\lib\\site-packages (from qiskit>=1.1.0->qiskit-aer) (0.13.0)\n",
      "Requirement already satisfied: six>=1.5 in d:\\users\\equipo\\anaconda3\\envs\\env_qiskit\\lib\\site-packages (from python-dateutil>=2.8.0->qiskit>=1.1.0->qiskit-aer) (1.17.0)\n",
      "Requirement already satisfied: pbr>=2.0.0 in d:\\users\\equipo\\anaconda3\\envs\\env_qiskit\\lib\\site-packages (from stevedore>=3.0.0->qiskit>=1.1.0->qiskit-aer) (6.1.1)\n",
      "Requirement already satisfied: setuptools in d:\\users\\equipo\\anaconda3\\envs\\env_qiskit\\lib\\site-packages (from pbr>=2.0.0->stevedore>=3.0.0->qiskit>=1.1.0->qiskit-aer) (72.1.0)\n",
      "Requirement already satisfied: mpmath<1.4,>=1.1.0 in d:\\users\\equipo\\anaconda3\\envs\\env_qiskit\\lib\\site-packages (from sympy>=1.3->qiskit>=1.1.0->qiskit-aer) (1.3.0)\n",
      "Using cached qiskit_aer-0.17.0-cp313-cp313-win_amd64.whl (9.5 MB)\n",
      "Installing collected packages: qiskit-aer\n",
      "Successfully installed qiskit-aer-0.17.0\n"
     ]
    },
    {
     "name": "stderr",
     "output_type": "stream",
     "text": [
      "WARNING: Ignoring invalid distribution ~ (D:\\Users\\Equipo\\anaconda3\\envs\\env_qiskit\\Lib\\site-packages)\n",
      "WARNING: Ignoring invalid distribution ~iskit (D:\\Users\\Equipo\\anaconda3\\envs\\env_qiskit\\Lib\\site-packages)\n",
      "WARNING: Ignoring invalid distribution ~ (D:\\Users\\Equipo\\anaconda3\\envs\\env_qiskit\\Lib\\site-packages)\n",
      "WARNING: Ignoring invalid distribution ~iskit (D:\\Users\\Equipo\\anaconda3\\envs\\env_qiskit\\Lib\\site-packages)\n",
      "WARNING: Ignoring invalid distribution ~ (D:\\Users\\Equipo\\anaconda3\\envs\\env_qiskit\\Lib\\site-packages)\n",
      "WARNING: Ignoring invalid distribution ~iskit (D:\\Users\\Equipo\\anaconda3\\envs\\env_qiskit\\Lib\\site-packages)\n"
     ]
    },
    {
     "name": "stdout",
     "output_type": "stream",
     "text": [
      "Collecting qiskit-machine-learning==0.8.0\n",
      "  Using cached qiskit_machine_learning-0.8.0-py3-none-any.whl.metadata (13 kB)\n",
      "Requirement already satisfied: qiskit>=1.0 in d:\\users\\equipo\\anaconda3\\envs\\env_qiskit\\lib\\site-packages (from qiskit-machine-learning==0.8.0) (1.3.2)\n",
      "Requirement already satisfied: scipy>=1.4 in d:\\users\\equipo\\anaconda3\\envs\\env_qiskit\\lib\\site-packages (from qiskit-machine-learning==0.8.0) (1.15.2)\n",
      "Requirement already satisfied: numpy>=1.17 in d:\\users\\equipo\\anaconda3\\envs\\env_qiskit\\lib\\site-packages (from qiskit-machine-learning==0.8.0) (2.2.3)\n",
      "Requirement already satisfied: psutil>=5 in d:\\users\\equipo\\anaconda3\\envs\\env_qiskit\\lib\\site-packages (from qiskit-machine-learning==0.8.0) (7.0.0)\n",
      "Requirement already satisfied: scikit-learn>=1.2.0 in d:\\users\\equipo\\anaconda3\\envs\\env_qiskit\\lib\\site-packages (from qiskit-machine-learning==0.8.0) (1.6.1)\n",
      "Requirement already satisfied: fastdtw in d:\\users\\equipo\\anaconda3\\envs\\env_qiskit\\lib\\site-packages (from qiskit-machine-learning==0.8.0) (0.3.4)\n",
      "Requirement already satisfied: setuptools>=40.1.0 in d:\\users\\equipo\\anaconda3\\envs\\env_qiskit\\lib\\site-packages (from qiskit-machine-learning==0.8.0) (72.1.0)\n",
      "Requirement already satisfied: dill>=0.3.4 in d:\\users\\equipo\\anaconda3\\envs\\env_qiskit\\lib\\site-packages (from qiskit-machine-learning==0.8.0) (0.3.9)\n",
      "Requirement already satisfied: rustworkx>=0.15.0 in d:\\users\\equipo\\anaconda3\\envs\\env_qiskit\\lib\\site-packages (from qiskit>=1.0->qiskit-machine-learning==0.8.0) (0.16.0)\n",
      "Requirement already satisfied: sympy>=1.3 in d:\\users\\equipo\\anaconda3\\envs\\env_qiskit\\lib\\site-packages (from qiskit>=1.0->qiskit-machine-learning==0.8.0) (1.13.3)\n",
      "Requirement already satisfied: python-dateutil>=2.8.0 in d:\\users\\equipo\\anaconda3\\envs\\env_qiskit\\lib\\site-packages (from qiskit>=1.0->qiskit-machine-learning==0.8.0) (2.9.0.post0)\n",
      "Requirement already satisfied: stevedore>=3.0.0 in d:\\users\\equipo\\anaconda3\\envs\\env_qiskit\\lib\\site-packages (from qiskit>=1.0->qiskit-machine-learning==0.8.0) (5.4.1)\n",
      "Requirement already satisfied: typing-extensions in d:\\users\\equipo\\anaconda3\\envs\\env_qiskit\\lib\\site-packages (from qiskit>=1.0->qiskit-machine-learning==0.8.0) (4.12.2)\n",
      "Requirement already satisfied: symengine<0.14,>=0.11 in d:\\users\\equipo\\anaconda3\\envs\\env_qiskit\\lib\\site-packages (from qiskit>=1.0->qiskit-machine-learning==0.8.0) (0.13.0)\n",
      "Requirement already satisfied: six>=1.5 in d:\\users\\equipo\\anaconda3\\envs\\env_qiskit\\lib\\site-packages (from python-dateutil>=2.8.0->qiskit>=1.0->qiskit-machine-learning==0.8.0) (1.17.0)\n",
      "Requirement already satisfied: joblib>=1.2.0 in d:\\users\\equipo\\anaconda3\\envs\\env_qiskit\\lib\\site-packages (from scikit-learn>=1.2.0->qiskit-machine-learning==0.8.0) (1.4.2)\n",
      "Requirement already satisfied: threadpoolctl>=3.1.0 in d:\\users\\equipo\\anaconda3\\envs\\env_qiskit\\lib\\site-packages (from scikit-learn>=1.2.0->qiskit-machine-learning==0.8.0) (3.5.0)\n",
      "Requirement already satisfied: pbr>=2.0.0 in d:\\users\\equipo\\anaconda3\\envs\\env_qiskit\\lib\\site-packages (from stevedore>=3.0.0->qiskit>=1.0->qiskit-machine-learning==0.8.0) (6.1.1)\n",
      "Requirement already satisfied: mpmath<1.4,>=1.1.0 in d:\\users\\equipo\\anaconda3\\envs\\env_qiskit\\lib\\site-packages (from sympy>=1.3->qiskit>=1.0->qiskit-machine-learning==0.8.0) (1.3.0)\n",
      "Using cached qiskit_machine_learning-0.8.0-py3-none-any.whl (237 kB)\n",
      "Installing collected packages: qiskit-machine-learning\n",
      "Successfully installed qiskit-machine-learning-0.8.0\n"
     ]
    },
    {
     "name": "stderr",
     "output_type": "stream",
     "text": [
      "WARNING: Ignoring invalid distribution ~ (D:\\Users\\Equipo\\anaconda3\\envs\\env_qiskit\\Lib\\site-packages)\n",
      "WARNING: Ignoring invalid distribution ~iskit (D:\\Users\\Equipo\\anaconda3\\envs\\env_qiskit\\Lib\\site-packages)\n",
      "WARNING: Ignoring invalid distribution ~ (D:\\Users\\Equipo\\anaconda3\\envs\\env_qiskit\\Lib\\site-packages)\n",
      "WARNING: Ignoring invalid distribution ~iskit (D:\\Users\\Equipo\\anaconda3\\envs\\env_qiskit\\Lib\\site-packages)\n",
      "WARNING: Ignoring invalid distribution ~ (D:\\Users\\Equipo\\anaconda3\\envs\\env_qiskit\\Lib\\site-packages)\n",
      "WARNING: Ignoring invalid distribution ~iskit (D:\\Users\\Equipo\\anaconda3\\envs\\env_qiskit\\Lib\\site-packages)\n"
     ]
    },
    {
     "name": "stdout",
     "output_type": "stream",
     "text": [
      "Requirement already satisfied: scikit-learn in d:\\users\\equipo\\anaconda3\\envs\\env_qiskit\\lib\\site-packages (1.6.1)\n",
      "Requirement already satisfied: numpy>=1.19.5 in d:\\users\\equipo\\anaconda3\\envs\\env_qiskit\\lib\\site-packages (from scikit-learn) (2.2.3)\n",
      "Requirement already satisfied: scipy>=1.6.0 in d:\\users\\equipo\\anaconda3\\envs\\env_qiskit\\lib\\site-packages (from scikit-learn) (1.15.2)\n",
      "Requirement already satisfied: joblib>=1.2.0 in d:\\users\\equipo\\anaconda3\\envs\\env_qiskit\\lib\\site-packages (from scikit-learn) (1.4.2)\n",
      "Requirement already satisfied: threadpoolctl>=3.1.0 in d:\\users\\equipo\\anaconda3\\envs\\env_qiskit\\lib\\site-packages (from scikit-learn) (3.5.0)\n"
     ]
    },
    {
     "name": "stderr",
     "output_type": "stream",
     "text": [
      "WARNING: Ignoring invalid distribution ~ (D:\\Users\\Equipo\\anaconda3\\envs\\env_qiskit\\Lib\\site-packages)\n",
      "WARNING: Ignoring invalid distribution ~iskit (D:\\Users\\Equipo\\anaconda3\\envs\\env_qiskit\\Lib\\site-packages)\n",
      "WARNING: Ignoring invalid distribution ~ (D:\\Users\\Equipo\\anaconda3\\envs\\env_qiskit\\Lib\\site-packages)\n",
      "WARNING: Ignoring invalid distribution ~iskit (D:\\Users\\Equipo\\anaconda3\\envs\\env_qiskit\\Lib\\site-packages)\n",
      "WARNING: Ignoring invalid distribution ~ (D:\\Users\\Equipo\\anaconda3\\envs\\env_qiskit\\Lib\\site-packages)\n",
      "WARNING: Ignoring invalid distribution ~iskit (D:\\Users\\Equipo\\anaconda3\\envs\\env_qiskit\\Lib\\site-packages)\n"
     ]
    },
    {
     "name": "stdout",
     "output_type": "stream",
     "text": [
      "Requirement already satisfied: matplotlib in d:\\users\\equipo\\anaconda3\\envs\\env_qiskit\\lib\\site-packages (3.10.0)\n",
      "Requirement already satisfied: contourpy>=1.0.1 in d:\\users\\equipo\\anaconda3\\envs\\env_qiskit\\lib\\site-packages (from matplotlib) (1.3.1)\n",
      "Requirement already satisfied: cycler>=0.10 in d:\\users\\equipo\\anaconda3\\envs\\env_qiskit\\lib\\site-packages (from matplotlib) (0.12.1)\n",
      "Requirement already satisfied: fonttools>=4.22.0 in d:\\users\\equipo\\anaconda3\\envs\\env_qiskit\\lib\\site-packages (from matplotlib) (4.56.0)\n",
      "Requirement already satisfied: kiwisolver>=1.3.1 in d:\\users\\equipo\\anaconda3\\envs\\env_qiskit\\lib\\site-packages (from matplotlib) (1.4.8)\n",
      "Requirement already satisfied: numpy>=1.23 in d:\\users\\equipo\\anaconda3\\envs\\env_qiskit\\lib\\site-packages (from matplotlib) (2.2.3)\n",
      "Requirement already satisfied: packaging>=20.0 in d:\\users\\equipo\\anaconda3\\envs\\env_qiskit\\lib\\site-packages (from matplotlib) (24.2)\n",
      "Requirement already satisfied: pillow>=8 in d:\\users\\equipo\\anaconda3\\envs\\env_qiskit\\lib\\site-packages (from matplotlib) (11.1.0)\n",
      "Requirement already satisfied: pyparsing>=2.3.1 in d:\\users\\equipo\\anaconda3\\envs\\env_qiskit\\lib\\site-packages (from matplotlib) (3.2.1)\n",
      "Requirement already satisfied: python-dateutil>=2.7 in d:\\users\\equipo\\anaconda3\\envs\\env_qiskit\\lib\\site-packages (from matplotlib) (2.9.0.post0)\n",
      "Requirement already satisfied: six>=1.5 in d:\\users\\equipo\\anaconda3\\envs\\env_qiskit\\lib\\site-packages (from python-dateutil>=2.7->matplotlib) (1.17.0)\n"
     ]
    },
    {
     "name": "stderr",
     "output_type": "stream",
     "text": [
      "WARNING: Ignoring invalid distribution ~ (D:\\Users\\Equipo\\anaconda3\\envs\\env_qiskit\\Lib\\site-packages)\n",
      "WARNING: Ignoring invalid distribution ~iskit (D:\\Users\\Equipo\\anaconda3\\envs\\env_qiskit\\Lib\\site-packages)\n",
      "WARNING: Ignoring invalid distribution ~ (D:\\Users\\Equipo\\anaconda3\\envs\\env_qiskit\\Lib\\site-packages)\n",
      "WARNING: Ignoring invalid distribution ~iskit (D:\\Users\\Equipo\\anaconda3\\envs\\env_qiskit\\Lib\\site-packages)\n",
      "WARNING: Ignoring invalid distribution ~ (D:\\Users\\Equipo\\anaconda3\\envs\\env_qiskit\\Lib\\site-packages)\n",
      "WARNING: Ignoring invalid distribution ~iskit (D:\\Users\\Equipo\\anaconda3\\envs\\env_qiskit\\Lib\\site-packages)\n"
     ]
    }
   ],
   "source": [
    "# !pip install qiskit==1.3.2\n",
    "# !pip install qiskit-aer\n",
    "# !pip install qiskit-machine-learning==0.8.0\n",
    "\n",
    "\n",
    "# !pip install scikit-learn\n",
    "# !pip install matplotlib\n",
    "\n",
    "# !pip install imblearn"
   ]
  },
  {
   "cell_type": "code",
   "execution_count": 1,
   "id": "47a38833-d1b4-4324-830b-be560d48d96f",
   "metadata": {
    "scrolled": true
   },
   "outputs": [
    {
     "name": "stdout",
     "output_type": "stream",
     "text": [
      "Versión de Qiskit:                  1.3.2\n",
      "Versión de Qiskit Machine Learning: 0.8.0\n"
     ]
    }
   ],
   "source": [
    "import qiskit\n",
    "import qiskit_machine_learning\n",
    "\n",
    "print('Versión de Qiskit:                 ', qiskit.version.get_version_info())\n",
    "print('Versión de Qiskit Machine Learning:', qiskit_machine_learning.version.get_version_info())"
   ]
  },
  {
   "cell_type": "markdown",
   "id": "7f861a41-b54b-4755-9edc-f3130740c8d6",
   "metadata": {},
   "source": [
    "# Imports"
   ]
  },
  {
   "cell_type": "code",
   "execution_count": 2,
   "id": "ef8ea97e-8b5c-4200-9eda-22f815504eb5",
   "metadata": {},
   "outputs": [],
   "source": [
    "# Utilidades generales\n",
    "import os\n",
    "import numpy as np\n",
    "import matplotlib.pyplot as plt\n",
    "import seaborn as sns\n",
    "import pandas as pd\n",
    "from IPython.display import clear_output\n",
    "\n",
    "# Utilidades scikit-learn\n",
    "from sklearn.datasets import load_wine\n",
    "from sklearn.preprocessing import MinMaxScaler\n",
    "from sklearn.preprocessing import StandardScaler\n",
    "from sklearn.decomposition import PCA\n",
    "from sklearn.model_selection import train_test_split\n",
    "from sklearn.metrics import accuracy_score, precision_score, recall_score, f1_score, confusion_matrix, classification_report\n",
    "\n",
    "from sklearn.preprocessing import OneHotEncoder\n",
    "\n",
    "# Qiskit y Qiskit Machine Learning\n",
    "import qiskit\n",
    "import qiskit_machine_learning\n",
    "from qiskit.circuit.library import RealAmplitudes, ZZFeatureMap, PauliFeatureMap, EfficientSU2\n",
    "from qiskit_aer import Aer\n",
    "from qiskit_machine_learning.optimizers import COBYLA, L_BFGS_B, SPSA\n",
    "from qiskit_machine_learning.utils.loss_functions import CrossEntropyLoss\n",
    "from qiskit_machine_learning.algorithms.classifiers import VQC\n",
    "from qiskit import QuantumCircuit\n",
    "\n",
    "\n",
    "import warnings\n",
    "warnings.filterwarnings('ignore')"
   ]
  },
  {
   "cell_type": "code",
   "execution_count": 3,
   "id": "ff1cf7c3-ef02-4be4-b08a-283ee08a5c0d",
   "metadata": {},
   "outputs": [],
   "source": [
    "import urllib.request\n",
    "import tempfile\n",
    "\n",
    "style_url = \"https://raw.githubusercontent.com/h4pZ/rose-pine-matplotlib/refs/heads/main/themes/rose-pine-dawn.mplstyle\"\n",
    "try:\n",
    "    with tempfile.TemporaryDirectory() as tmpdir:\n",
    "        style_path = os.path.join(tmpdir, \"rose-pine-dawn.mplstyle\")\n",
    "        urllib.request.urlretrieve(style_url, style_path)\n",
    "        plt.style.use(style_path)\n",
    "except:\n",
    "    pass\n"
   ]
  },
  {
   "cell_type": "markdown",
   "id": "e3809e49-5e21-406c-859c-7ed0efe20dbe",
   "metadata": {},
   "source": [
    "# Preprocesamiento"
   ]
  },
  {
   "cell_type": "code",
   "execution_count": 4,
   "id": "cdef823e-2ccc-4774-9bbb-1d67b6054b57",
   "metadata": {},
   "outputs": [
    {
     "name": "stdout",
     "output_type": "stream",
     "text": [
      "Número de muestras: 178\n",
      "Número de características: 13\n",
      "Características: ['alcohol', 'malic_acid', 'ash', 'alcalinity_of_ash', 'magnesium', 'total_phenols', 'flavanoids', 'nonflavanoid_phenols', 'proanthocyanins', 'color_intensity', 'hue', 'od280/od315_of_diluted_wines', 'proline']\n",
      "Clases: [np.str_('class_0'), np.str_('class_1'), np.str_('class_2')]\n",
      "Distribución de clases: {0: 59, 1: 71, 2: 48}\n",
      "\n",
      "Primeras filas del dataset:\n"
     ]
    },
    {
     "data": {
      "text/html": [
       "<div>\n",
       "<style scoped>\n",
       "    .dataframe tbody tr th:only-of-type {\n",
       "        vertical-align: middle;\n",
       "    }\n",
       "\n",
       "    .dataframe tbody tr th {\n",
       "        vertical-align: top;\n",
       "    }\n",
       "\n",
       "    .dataframe thead th {\n",
       "        text-align: right;\n",
       "    }\n",
       "</style>\n",
       "<table border=\"1\" class=\"dataframe\">\n",
       "  <thead>\n",
       "    <tr style=\"text-align: right;\">\n",
       "      <th></th>\n",
       "      <th>alcohol</th>\n",
       "      <th>malic_acid</th>\n",
       "      <th>ash</th>\n",
       "      <th>alcalinity_of_ash</th>\n",
       "      <th>magnesium</th>\n",
       "      <th>total_phenols</th>\n",
       "      <th>flavanoids</th>\n",
       "      <th>nonflavanoid_phenols</th>\n",
       "      <th>proanthocyanins</th>\n",
       "      <th>color_intensity</th>\n",
       "      <th>hue</th>\n",
       "      <th>od280/od315_of_diluted_wines</th>\n",
       "      <th>proline</th>\n",
       "      <th>target</th>\n",
       "    </tr>\n",
       "  </thead>\n",
       "  <tbody>\n",
       "    <tr>\n",
       "      <th>0</th>\n",
       "      <td>14.23</td>\n",
       "      <td>1.71</td>\n",
       "      <td>2.43</td>\n",
       "      <td>15.6</td>\n",
       "      <td>127.0</td>\n",
       "      <td>2.80</td>\n",
       "      <td>3.06</td>\n",
       "      <td>0.28</td>\n",
       "      <td>2.29</td>\n",
       "      <td>5.64</td>\n",
       "      <td>1.04</td>\n",
       "      <td>3.92</td>\n",
       "      <td>1065.0</td>\n",
       "      <td>0</td>\n",
       "    </tr>\n",
       "    <tr>\n",
       "      <th>1</th>\n",
       "      <td>13.20</td>\n",
       "      <td>1.78</td>\n",
       "      <td>2.14</td>\n",
       "      <td>11.2</td>\n",
       "      <td>100.0</td>\n",
       "      <td>2.65</td>\n",
       "      <td>2.76</td>\n",
       "      <td>0.26</td>\n",
       "      <td>1.28</td>\n",
       "      <td>4.38</td>\n",
       "      <td>1.05</td>\n",
       "      <td>3.40</td>\n",
       "      <td>1050.0</td>\n",
       "      <td>0</td>\n",
       "    </tr>\n",
       "    <tr>\n",
       "      <th>2</th>\n",
       "      <td>13.16</td>\n",
       "      <td>2.36</td>\n",
       "      <td>2.67</td>\n",
       "      <td>18.6</td>\n",
       "      <td>101.0</td>\n",
       "      <td>2.80</td>\n",
       "      <td>3.24</td>\n",
       "      <td>0.30</td>\n",
       "      <td>2.81</td>\n",
       "      <td>5.68</td>\n",
       "      <td>1.03</td>\n",
       "      <td>3.17</td>\n",
       "      <td>1185.0</td>\n",
       "      <td>0</td>\n",
       "    </tr>\n",
       "    <tr>\n",
       "      <th>3</th>\n",
       "      <td>14.37</td>\n",
       "      <td>1.95</td>\n",
       "      <td>2.50</td>\n",
       "      <td>16.8</td>\n",
       "      <td>113.0</td>\n",
       "      <td>3.85</td>\n",
       "      <td>3.49</td>\n",
       "      <td>0.24</td>\n",
       "      <td>2.18</td>\n",
       "      <td>7.80</td>\n",
       "      <td>0.86</td>\n",
       "      <td>3.45</td>\n",
       "      <td>1480.0</td>\n",
       "      <td>0</td>\n",
       "    </tr>\n",
       "    <tr>\n",
       "      <th>4</th>\n",
       "      <td>13.24</td>\n",
       "      <td>2.59</td>\n",
       "      <td>2.87</td>\n",
       "      <td>21.0</td>\n",
       "      <td>118.0</td>\n",
       "      <td>2.80</td>\n",
       "      <td>2.69</td>\n",
       "      <td>0.39</td>\n",
       "      <td>1.82</td>\n",
       "      <td>4.32</td>\n",
       "      <td>1.04</td>\n",
       "      <td>2.93</td>\n",
       "      <td>735.0</td>\n",
       "      <td>0</td>\n",
       "    </tr>\n",
       "  </tbody>\n",
       "</table>\n",
       "</div>"
      ],
      "text/plain": [
       "   alcohol  malic_acid   ash  alcalinity_of_ash  magnesium  total_phenols  \\\n",
       "0    14.23        1.71  2.43               15.6      127.0           2.80   \n",
       "1    13.20        1.78  2.14               11.2      100.0           2.65   \n",
       "2    13.16        2.36  2.67               18.6      101.0           2.80   \n",
       "3    14.37        1.95  2.50               16.8      113.0           3.85   \n",
       "4    13.24        2.59  2.87               21.0      118.0           2.80   \n",
       "\n",
       "   flavanoids  nonflavanoid_phenols  proanthocyanins  color_intensity   hue  \\\n",
       "0        3.06                  0.28             2.29             5.64  1.04   \n",
       "1        2.76                  0.26             1.28             4.38  1.05   \n",
       "2        3.24                  0.30             2.81             5.68  1.03   \n",
       "3        3.49                  0.24             2.18             7.80  0.86   \n",
       "4        2.69                  0.39             1.82             4.32  1.04   \n",
       "\n",
       "   od280/od315_of_diluted_wines  proline  target  \n",
       "0                          3.92   1065.0       0  \n",
       "1                          3.40   1050.0       0  \n",
       "2                          3.17   1185.0       0  \n",
       "3                          3.45   1480.0       0  \n",
       "4                          2.93    735.0       0  "
      ]
     },
     "metadata": {},
     "output_type": "display_data"
    }
   ],
   "source": [
    "# Cargar el dataset de vino\n",
    "wine_data = load_wine()\n",
    "\n",
    "# Separar características y etiquetas\n",
    "X = wine_data.data\n",
    "y = wine_data.target\n",
    "feature_names = wine_data.feature_names\n",
    "target_names = wine_data.target_names\n",
    "\n",
    "# Mostrar estructura general\n",
    "print(\"Número de muestras:\", X.shape[0])\n",
    "print(\"Número de características:\", X.shape[1])\n",
    "print(\"Características:\", feature_names)\n",
    "print(\"Clases:\", list(target_names))\n",
    "print(\"Distribución de clases:\", pd.Series(y).value_counts().sort_index().to_dict())\n",
    "\n",
    "# Crear DataFrame para exploración\n",
    "df = pd.DataFrame(X, columns=feature_names)\n",
    "df['target'] = y\n",
    "print(\"\\nPrimeras filas del dataset:\")\n",
    "display(df.head())"
   ]
  },
  {
   "cell_type": "code",
   "execution_count": 5,
   "id": "dff73e88-81ce-4066-b845-e05c8d8844d5",
   "metadata": {},
   "outputs": [],
   "source": [
    "# Normalización de los datos\n",
    "scaler = MinMaxScaler(feature_range=(0, 2*np.pi))\n",
    "X_scaled = scaler.fit_transform(X)"
   ]
  },
  {
   "cell_type": "code",
   "execution_count": 6,
   "id": "37177d07-66e2-476a-9ca2-52ee1d4836a1",
   "metadata": {},
   "outputs": [
    {
     "data": {
      "image/png": "[encoded data removed]",
      "text/plain": [
       "<Figure size 800x500 with 1 Axes>"
      ]
     },
     "metadata": {},
     "output_type": "display_data"
    }
   ],
   "source": [
    "# PCA para ver la varianza acumulada\n",
    "pca = PCA()\n",
    "X_pca_full = pca.fit_transform(X_scaled)\n",
    "\n",
    "# Varianza explicada\n",
    "explained_var = pca.explained_variance_ratio_\n",
    "cumulative_var = np.cumsum(explained_var)\n",
    "\n",
    "# Gráfico de varianza acumulada\n",
    "plt.figure(figsize=(8, 5))\n",
    "plt.plot(range(1, len(cumulative_var) + 1), cumulative_var, marker='o')\n",
    "plt.axhline(y=0.95, color='C4', linestyle='--', label='95% de varianza explicada')\n",
    "plt.title('Varianza acumulada por número de componentes principales')\n",
    "plt.xlabel('Número de componentes principales')\n",
    "plt.ylabel('Varianza explicada acumulada')\n",
    "plt.grid(True)\n",
    "plt.legend()\n",
    "plt.tight_layout()\n",
    "plt.show()\n"
   ]
  },
  {
   "cell_type": "code",
   "execution_count": 7,
   "id": "46363214-6e13-4e7c-8709-5084854ed60c",
   "metadata": {},
   "outputs": [
    {
     "name": "stdout",
     "output_type": "stream",
     "text": [
      "Nueva forma de X_pca: (178, 4)\n"
     ]
    }
   ],
   "source": [
    "# Definir cantidad de componentes a utilizar\n",
    "pca_components = 4\n",
    "\n",
    "# Aplicar PCA con n componentes principales\n",
    "pca_n = PCA(n_components=pca_components)\n",
    "X_pca = pca_n.fit_transform(X_scaled)\n",
    "\n",
    "# Confirmar la nueva forma de los datos\n",
    "print(\"Nueva forma de X_pca:\", X_pca.shape)\n"
   ]
  },
  {
   "cell_type": "code",
   "execution_count": 8,
   "id": "a34c6c2e-8554-45fd-b080-82b30ef2dad7",
   "metadata": {
    "scrolled": true
   },
   "outputs": [
    {
     "name": "stdout",
     "output_type": "stream",
     "text": [
      "Formas después de SMOTE: (150, 4) (150,)\n"
     ]
    }
   ],
   "source": [
    "# # Dividir en entrenamiento y prueba\n",
    "# X_train, X_test, y_train, y_test = train_test_split(\n",
    "#     X_pca, y, test_size=0.3, random_state=42, stratify=y\n",
    "# )\n",
    "\n",
    "# # Convertir las etiquetas a one-hot (requerido por cross-entropy)\n",
    "# encoder = OneHotEncoder(sparse_output=False)\n",
    "# y_train_encoded = encoder.fit_transform(y_train.reshape(-1, 1))\n",
    "# y_test_encoded = encoder.transform(y_test.reshape(-1, 1))\n",
    "\n",
    "\n",
    "# Dividir en entrenamiento y prueba\n",
    "X_train, X_test, y_train, y_test = train_test_split(\n",
    "    X_pca, y, test_size=0.3, random_state=42, stratify=y\n",
    ")\n",
    "\n",
    "# SMOTE sobre el conjunto de entrenamiento\n",
    "from imblearn.over_sampling import SMOTE\n",
    "smote = SMOTE(random_state=42)\n",
    "X_train_resampled, y_train_resampled = smote.fit_resample(X_train, y_train)\n",
    "\n",
    "print(\"Formas después de SMOTE:\", X_train_resampled.shape, y_train_resampled.shape)\n",
    "\n",
    "# Codificación one-hot sobre etiquetas YA re-muestreadas\n",
    "from sklearn.preprocessing import OneHotEncoder\n",
    "encoder = OneHotEncoder(sparse_output=False)\n",
    "\n",
    "y_train_encoded = encoder.fit_transform(y_train_resampled.reshape(-1, 1))\n",
    "y_test_encoded = encoder.transform(y_test.reshape(-1, 1))"
   ]
  },
  {
   "cell_type": "markdown",
   "id": "6b9d97dd-2d09-4afa-b489-d67fd8d71135",
   "metadata": {},
   "source": [
    "# Modelo"
   ]
  },
  {
   "cell_type": "code",
   "execution_count": 9,
   "id": "a1781b8d-64ec-4da6-ad53-93f9bbf18dd8",
   "metadata": {},
   "outputs": [],
   "source": [
    "# Función de callback\n",
    "def callback_graph(weights, loss_value):\n",
    "    objective_func_vals.append(loss_value)\n",
    "    clear_output(wait=True)\n",
    "    print(f\"Iteración: {len(objective_func_vals)}, Pérdida: {loss_value:.5f}\")\n",
    "    plt.plot(objective_func_vals)\n",
    "    plt.title(\"Pérdida vs Iteración\")\n",
    "    plt.xlabel(\"Iteración\")\n",
    "    plt.ylabel(\"Pérdida\")\n",
    "    plt.grid(True)\n",
    "    plt.show()"
   ]
  },
  {
   "cell_type": "code",
   "execution_count": 10,
   "id": "da1bb322-2a4a-4b10-905c-053306621ee1",
   "metadata": {},
   "outputs": [
    {
     "data": {
      "image/png": "[encoded data removed]",
      "text/plain": [
       "<Figure size 956.385x367.889 with 1 Axes>"
      ]
     },
     "execution_count": 10,
     "metadata": {},
     "output_type": "execute_result"
    }
   ],
   "source": [
    "fm_reps = 2\n",
    "ansatz_reps = 4\n",
    "opt_iter = 300\n",
    "ent_type = 'full'\n",
    "lr = 0.02\n",
    "c = 0.05\n",
    "\n",
    "# Mapa de características y ansatz\n",
    "\n",
    "# feature_map = ZZFeatureMap(feature_dimension=pca_components, reps=fm_reps, entanglement=ent_type)\n",
    "#feature_map = PauliFeatureMap(feature_dimension=pca_components, reps=fm_reps, paulis=['Z', 'ZZ'], entanglement=ent_type)\n",
    "\n",
    "from qiskit.circuit import ParameterVector\n",
    "\n",
    "def create_angle_encoding_circuit(num_qubits):\n",
    "    \"\"\"Create a circuit that encodes features as rotation angles\"\"\"\n",
    "    params = ParameterVector('x', num_qubits)\n",
    "    qc = QuantumCircuit(num_qubits)\n",
    "    \n",
    "    # Encode each feature as a rotation around Y-axis\n",
    "    for i in range(num_qubits):\n",
    "        qc.ry(params[i], i)\n",
    "    \n",
    "    return qc\n",
    "    \n",
    "feature_map = create_angle_encoding_circuit(pca_components)\n",
    "\n",
    "#ansatz = RealAmplitudes(num_qubits=pca_components, reps=ansatz_reps, entanglement=ent_type)\n",
    "ansatz = EfficientSU2(num_qubits=pca_components, reps=ansatz_reps, entanglement=ent_type)\n",
    "\n",
    "# Optimizador\n",
    "optimizer = SPSA(maxiter=opt_iter)\n",
    "# optimizer = SPSA(maxiter=opt_iter, learning_rate=lr, perturbation=c)\n",
    "# optimizer = L_BFGS_B(maxiter=opt_iter)\n",
    "# optimizer = COBYLA(maxiter=opt_iter)\n",
    "\n",
    "# Instancia VQC\n",
    "vqc = VQC(\n",
    "    feature_map=feature_map,\n",
    "    ansatz=ansatz,\n",
    "    loss=\"cross_entropy\",  \n",
    "    optimizer=optimizer,\n",
    "    callback=callback_graph\n",
    ")\n",
    "\n",
    "# Visualizar  el circuito\n",
    "vqc.neural_network.circuit.draw('mpl')"
   ]
  },
  {
   "cell_type": "markdown",
   "id": "6ad6bc28-bd44-449c-894c-30dc5780d168",
   "metadata": {},
   "source": [
    "# Entrenamiento"
   ]
  },
  {
   "cell_type": "code",
   "execution_count": 11,
   "id": "9a743eb1-eefd-4c6e-89d9-55ef687f4abc",
   "metadata": {},
   "outputs": [
    {
     "name": "stdout",
     "output_type": "stream",
     "text": [
      "Iteración: 651, Pérdida: 1.11054\n"
     ]
    },
    {
     "data": {
      "image/png": "[encoded data removed]",
      "text/plain": [
       "<Figure size 640x480 with 1 Axes>"
      ]
     },
     "metadata": {},
     "output_type": "display_data"
    },
    {
     "name": "stdout",
     "output_type": "stream",
     "text": [
      "\n",
      "Exactitud de entrenamiento: 0.66\n"
     ]
    }
   ],
   "source": [
    "objective_func_vals = []\n",
    "\n",
    "# Entrenar\n",
    "\n",
    "# vqc.fit(X_train, y_train_encoded)\n",
    "vqc.fit(X_train_resampled, y_train_encoded)\n",
    "\n",
    "# Evaluar entrenamiento\n",
    "train_accuracy = vqc.score(X_train_resampled, y_train_encoded)\n",
    "print('\\nExactitud de entrenamiento:',train_accuracy)"
   ]
  },
  {
   "cell_type": "markdown",
   "id": "04e85346-1128-4806-bc30-790be93c662c",
   "metadata": {},
   "source": [
    "# Prueba"
   ]
  },
  {
   "cell_type": "code",
   "execution_count": 12,
   "id": "cdc768f6-7657-4bdc-9b8d-d8d428e472ee",
   "metadata": {},
   "outputs": [
    {
     "data": {
      "image/png": "[encoded data removed]",
      "text/plain": [
       "<Figure size 800x600 with 2 Axes>"
      ]
     },
     "metadata": {},
     "output_type": "display_data"
    }
   ],
   "source": [
    "# 1. Obtener predicciones del modelo en datos de prueba\n",
    "y_pred_encoded = vqc.predict(X_test)\n",
    "y_pred = np.argmax(y_pred_encoded, axis=1)  # Convertir de one-hot a índices de clase\n",
    "y_test_indices = np.argmax(y_test_encoded, axis=1)  # Convertir etiquetas de prueba\n",
    "test_accuracy = vqc.score(X_test, y_test_encoded)\n",
    "\n",
    "# 2. Calcular matriz de confusión\n",
    "cm = confusion_matrix(y_test_indices, y_pred)\n",
    "\n",
    "# Visualizar la matriz de confusión\n",
    "plt.figure(figsize=(8, 6))\n",
    "sns.heatmap(cm, annot=True, fmt='d', cmap='Purples', \n",
    "            xticklabels=target_names, \n",
    "            yticklabels=target_names)\n",
    "plt.xlabel('Predicción')\n",
    "plt.ylabel('Etiqueta Real')\n",
    "plt.title('Matriz de Confusión')\n",
    "plt.tight_layout()\n",
    "plt.show()"
   ]
  },
  {
   "cell_type": "code",
   "execution_count": 13,
   "id": "3dde0b6d-9eba-4bf4-8873-9f31ac73c8f5",
   "metadata": {},
   "outputs": [
    {
     "name": "stdout",
     "output_type": "stream",
     "text": [
      "\n",
      "Métricas por clase:\n",
      "Clase 'class_0':\n",
      "  - Precisión: 0.4615\n",
      "  - Recall: 0.6667\n",
      "  - F1-score: 0.5455\n",
      "Clase 'class_1':\n",
      "  - Precisión: 0.6154\n",
      "  - Recall: 0.3810\n",
      "  - F1-score: 0.4706\n",
      "Clase 'class_2':\n",
      "  - Precisión: 0.4667\n",
      "  - Recall: 0.4667\n",
      "  - F1-score: 0.4667\n",
      "\n",
      "Métricas promedio (ponderadas):\n",
      "  - Precisión: 0.5228\n",
      "  - Recall: 0.5000\n",
      "  - F1-score: 0.4945\n",
      "\n",
      "Reporte de clasificación:\n",
      "              precision    recall  f1-score   support\n",
      "\n",
      "     class_0       0.46      0.67      0.55        18\n",
      "     class_1       0.62      0.38      0.47        21\n",
      "     class_2       0.47      0.47      0.47        15\n",
      "\n",
      "    accuracy                           0.50        54\n",
      "   macro avg       0.51      0.50      0.49        54\n",
      "weighted avg       0.52      0.50      0.49        54\n",
      "\n"
     ]
    }
   ],
   "source": [
    "# 3. Calcular métricas detalladas para cada clase\n",
    "precision = precision_score(y_test_indices, y_pred, average=None)\n",
    "recall = recall_score(y_test_indices, y_pred, average=None)\n",
    "f1 = f1_score(y_test_indices, y_pred, average=None)\n",
    "\n",
    "# Métricas promedio\n",
    "precision_avg = precision_score(y_test_indices, y_pred, average='weighted')\n",
    "recall_avg = recall_score(y_test_indices, y_pred, average='weighted')\n",
    "f1_avg = f1_score(y_test_indices, y_pred, average='weighted')\n",
    "\n",
    "# Mostrar métricas por clase\n",
    "print(\"\\nMétricas por clase:\")\n",
    "for i, class_name in enumerate(target_names):\n",
    "    print(f\"Clase '{class_name}':\")\n",
    "    print(f\"  - Precisión: {precision[i]:.4f}\")\n",
    "    print(f\"  - Recall: {recall[i]:.4f}\")\n",
    "    print(f\"  - F1-score: {f1[i]:.4f}\")\n",
    "\n",
    "print(\"\\nMétricas promedio (ponderadas):\")\n",
    "print(f\"  - Precisión: {precision_avg:.4f}\")\n",
    "print(f\"  - Recall: {recall_avg:.4f}\")\n",
    "print(f\"  - F1-score: {f1_avg:.4f}\")\n",
    "\n",
    "# 4. Reporte de clasificación completo\n",
    "print(\"\\nReporte de clasificación:\")\n",
    "print(classification_report(y_test_indices, y_pred, target_names=target_names))\n",
    "\n",
    "# 5. Visualización de las predicciones correctas e incorrectas\n",
    "prediction_df = pd.DataFrame({\n",
    "    'Real': [target_names[i] for i in y_test_indices],\n",
    "    'Predicción': [target_names[i] for i in y_pred],\n",
    "    'Correcto': y_test_indices == y_pred\n",
    "})\n"
   ]
  }
 ],
 "metadata": {
  "kernelspec": {
   "display_name": "Qiskit Env",
   "language": "python",
   "name": "qiskit_env"
  },
  "language_info": {
   "codemirror_mode": {
    "name": "ipython",
    "version": 3
   },
   "file_extension": ".py",
   "mimetype": "text/x-python",
   "name": "python",
   "nbconvert_exporter": "python",
   "pygments_lexer": "ipython3",
   "version": "3.13.2"
  }
 },
 "nbformat": 4,
 "nbformat_minor": 5
}
